{
 "cells": [
  {
   "cell_type": "markdown",
   "id": "d7ff01cd",
   "metadata": {},
   "source": [
    "# Covid Data\n",
    "\n",
    "This uses a covid dataset for Alberta, Canada\n",
    "\n",
    "I'm just messing around with it so that I can learn data wrangling techniques in python. Maybe I'll do some classification problems but idk\n",
    "\n",
    "Currently uses pandas, numpy, matplotlib...yeah"
   ]
  },
  {
   "cell_type": "code",
   "execution_count": 37,
   "id": "476c4c1e",
   "metadata": {},
   "outputs": [],
   "source": [
    "import pandas as pd\n",
    "from datetime import datetime\n",
    "import matplotlib\n",
    "import matplotlib.pyplot as plt\n",
    "import numpy as np"
   ]
  },
  {
   "cell_type": "code",
   "execution_count": 38,
   "id": "ea6b42ac",
   "metadata": {},
   "outputs": [],
   "source": [
    "cov = pd.read_csv('data/alberta0522.csv')\n",
    "vac = pd.read_csv('data/vac0522.csv')"
   ]
  },
  {
   "cell_type": "code",
   "execution_count": 39,
   "id": "fb56cf9e",
   "metadata": {},
   "outputs": [
    {
     "data": {
      "text/plain": [
       "Index(['Unnamed: 0', 'Date reported', 'Alberta Health Services Zone', 'Gender',\n",
       "       'Age group', 'Case status', 'Case type'],\n",
       "      dtype='object')"
      ]
     },
     "execution_count": 39,
     "metadata": {},
     "output_type": "execute_result"
    }
   ],
   "source": [
    "cov.columns"
   ]
  },
  {
   "cell_type": "code",
   "execution_count": 40,
   "id": "ca24c305",
   "metadata": {},
   "outputs": [],
   "source": [
    "# Drop the built-in index column\n",
    "cov = cov.drop(['Unnamed: 0'], axis=1)"
   ]
  },
  {
   "cell_type": "code",
   "execution_count": 41,
   "id": "80aa0f49",
   "metadata": {},
   "outputs": [
    {
     "data": {
      "text/plain": [
       "0    2020-11-13\n",
       "1    2021-01-03\n",
       "2    2021-04-21\n",
       "3    2021-05-17\n",
       "4    2020-12-13\n",
       "Name: Date reported, dtype: object"
      ]
     },
     "execution_count": 41,
     "metadata": {},
     "output_type": "execute_result"
    }
   ],
   "source": [
    "cov['Date reported'].head()"
   ]
  },
  {
   "cell_type": "code",
   "execution_count": 42,
   "id": "a8ea009f",
   "metadata": {},
   "outputs": [],
   "source": [
    "cov['Date reported'] = pd.to_datetime(cov['Date reported'], format='%Y-%m-%d')"
   ]
  },
  {
   "cell_type": "code",
   "execution_count": 43,
   "id": "0da8d4f8",
   "metadata": {
    "scrolled": true
   },
   "outputs": [
    {
     "data": {
      "text/html": [
       "<div>\n",
       "<style scoped>\n",
       "    .dataframe tbody tr th:only-of-type {\n",
       "        vertical-align: middle;\n",
       "    }\n",
       "\n",
       "    .dataframe tbody tr th {\n",
       "        vertical-align: top;\n",
       "    }\n",
       "\n",
       "    .dataframe thead th {\n",
       "        text-align: right;\n",
       "    }\n",
       "</style>\n",
       "<table border=\"1\" class=\"dataframe\">\n",
       "  <thead>\n",
       "    <tr style=\"text-align: right;\">\n",
       "      <th></th>\n",
       "      <th>Date reported</th>\n",
       "      <th>Alberta Health Services Zone</th>\n",
       "      <th>Gender</th>\n",
       "      <th>Age group</th>\n",
       "      <th>Case status</th>\n",
       "      <th>Case type</th>\n",
       "    </tr>\n",
       "  </thead>\n",
       "  <tbody>\n",
       "    <tr>\n",
       "      <th>0</th>\n",
       "      <td>2020-11-13</td>\n",
       "      <td>Calgary Zone</td>\n",
       "      <td>Female</td>\n",
       "      <td>1-4 years</td>\n",
       "      <td>Recovered</td>\n",
       "      <td>Confirmed</td>\n",
       "    </tr>\n",
       "    <tr>\n",
       "      <th>1</th>\n",
       "      <td>2021-01-03</td>\n",
       "      <td>Calgary Zone</td>\n",
       "      <td>Female</td>\n",
       "      <td>5-9 years</td>\n",
       "      <td>Recovered</td>\n",
       "      <td>Confirmed</td>\n",
       "    </tr>\n",
       "    <tr>\n",
       "      <th>2</th>\n",
       "      <td>2021-04-21</td>\n",
       "      <td>Edmonton Zone</td>\n",
       "      <td>Male</td>\n",
       "      <td>30-39 years</td>\n",
       "      <td>Recovered</td>\n",
       "      <td>Confirmed</td>\n",
       "    </tr>\n",
       "    <tr>\n",
       "      <th>3</th>\n",
       "      <td>2021-05-17</td>\n",
       "      <td>North Zone</td>\n",
       "      <td>Male</td>\n",
       "      <td>10-19 years</td>\n",
       "      <td>Active</td>\n",
       "      <td>Confirmed</td>\n",
       "    </tr>\n",
       "    <tr>\n",
       "      <th>4</th>\n",
       "      <td>2020-12-13</td>\n",
       "      <td>Edmonton Zone</td>\n",
       "      <td>Male</td>\n",
       "      <td>5-9 years</td>\n",
       "      <td>Recovered</td>\n",
       "      <td>Confirmed</td>\n",
       "    </tr>\n",
       "  </tbody>\n",
       "</table>\n",
       "</div>"
      ],
      "text/plain": [
       "  Date reported Alberta Health Services Zone  Gender    Age group Case status  \\\n",
       "0    2020-11-13                 Calgary Zone  Female    1-4 years   Recovered   \n",
       "1    2021-01-03                 Calgary Zone  Female    5-9 years   Recovered   \n",
       "2    2021-04-21                Edmonton Zone    Male  30-39 years   Recovered   \n",
       "3    2021-05-17                   North Zone    Male  10-19 years      Active   \n",
       "4    2020-12-13                Edmonton Zone    Male    5-9 years   Recovered   \n",
       "\n",
       "   Case type  \n",
       "0  Confirmed  \n",
       "1  Confirmed  \n",
       "2  Confirmed  \n",
       "3  Confirmed  \n",
       "4  Confirmed  "
      ]
     },
     "execution_count": 43,
     "metadata": {},
     "output_type": "execute_result"
    }
   ],
   "source": [
    "cov.head()"
   ]
  },
  {
   "cell_type": "code",
   "execution_count": 44,
   "id": "fe8f4619",
   "metadata": {
    "scrolled": false
   },
   "outputs": [
    {
     "data": {
      "text/plain": [
       "Confirmed    221804\n",
       "Probable       2391\n",
       "Name: Case type, dtype: int64"
      ]
     },
     "execution_count": 44,
     "metadata": {},
     "output_type": "execute_result"
    }
   ],
   "source": [
    "cov['Case type'].value_counts()"
   ]
  },
  {
   "cell_type": "code",
   "execution_count": 45,
   "id": "da59958f",
   "metadata": {
    "scrolled": true
   },
   "outputs": [],
   "source": [
    "# bad variable names but its ok\n",
    "a = cov.resample('W', on='Date reported').count().cumsum()"
   ]
  },
  {
   "cell_type": "code",
   "execution_count": 46,
   "id": "68242ead",
   "metadata": {},
   "outputs": [],
   "source": [
    "b = cov.resample('2W', on='Date reported').count()"
   ]
  },
  {
   "cell_type": "code",
   "execution_count": 47,
   "id": "971288c9",
   "metadata": {},
   "outputs": [],
   "source": [
    "a = a['Case type']"
   ]
  },
  {
   "cell_type": "code",
   "execution_count": 48,
   "id": "987e2bd1",
   "metadata": {
    "scrolled": false
   },
   "outputs": [
    {
     "data": {
      "text/plain": [
       "Date reported\n",
       "2020-03-08       1\n",
       "2020-03-22     291\n",
       "2020-04-05     986\n",
       "2020-04-19    1422\n",
       "2020-05-03    2941\n",
       "Freq: 2W-SUN, Name: Case type, dtype: int64"
      ]
     },
     "execution_count": 48,
     "metadata": {},
     "output_type": "execute_result"
    }
   ],
   "source": [
    "b = b['Case type']\n",
    "b.head()"
   ]
  },
  {
   "cell_type": "code",
   "execution_count": 52,
   "id": "eedba9ea",
   "metadata": {
    "scrolled": true
   },
   "outputs": [
    {
     "data": {
      "image/png": "[encoded data removed]",
      "text/plain": [
       "<Figure size 1152x576 with 1 Axes>"
      ]
     },
     "metadata": {
      "needs_background": "light"
     },
     "output_type": "display_data"
    }
   ],
   "source": [
    "# Time to plot data. This is basically the covid data found at \n",
    "# https://www.alberta.ca/stats/covid-19-alberta-statistics.htm#total-cases\n",
    "\n",
    "# However, it looks kind of weird because I simply plotted biweekly new cases,\n",
    "# assuming patients would recover in two weeks, instead of \"active cases\"\n",
    "# In the dataset, active cases are updated to \"recovered\" when a person recovers, so I can't really\n",
    "# emulate the plot they have I think.\n",
    "\n",
    "# uncomment this if u think ur funny\n",
    "# plt.xkcd()\n",
    "\n",
    "# get the subplots\n",
    "f, ax = plt.subplots(figsize=(16, 8))\n",
    "\n",
    "# plot data\n",
    "totalcaseline, = ax.plot(a)\n",
    "newcaseline, = ax.plot(b)\n",
    "\n",
    "# title\n",
    "fonts = [{'fontname':'Comic Sans MS', 'size': 24}, {'fontname':'Arial', 'size': 24}]\n",
    "csfont = fonts[1]\n",
    "plt.title('Covid Stats in Alberta', fontdict=csfont)\n",
    "plt.xlabel('Date', fontdict=csfont)\n",
    "plt.ylabel('Number of Cases', fontdict=csfont)\n",
    "\n",
    "# legend stuff\n",
    "totalcaseline.set_label('Total cases')\n",
    "newcaseline.set_label('Biweekly new cases')\n",
    "ax.legend()\n",
    "\n",
    "plt.yticks(np.arange(0, 230000, step=20000))\n",
    "plt.grid()\n",
    "plt.show()"
   ]
  },
  {
   "cell_type": "code",
   "execution_count": 53,
   "id": "ba492fe2",
   "metadata": {
    "scrolled": true
   },
   "outputs": [
    {
     "data": {
      "text/plain": [
       "24655"
      ]
     },
     "execution_count": 53,
     "metadata": {},
     "output_type": "execute_result"
    }
   ],
   "source": [
    "b.max()"
   ]
  },
  {
   "cell_type": "code",
   "execution_count": 54,
   "id": "2b28eb66",
   "metadata": {},
   "outputs": [
    {
     "data": {
      "text/plain": [
       "Recovered    207486\n",
       "Active        14533\n",
       "Died           2176\n",
       "Name: Case status, dtype: int64"
      ]
     },
     "execution_count": 54,
     "metadata": {},
     "output_type": "execute_result"
    }
   ],
   "source": [
    "cov['Case status'].value_counts()\n",
    "# yeah that's around the active cases on this day. I can't completely emulate their graph but it's fine."
   ]
  },
  {
   "cell_type": "markdown",
   "id": "32580c4f",
   "metadata": {},
   "source": [
    "## BUT IMAGINE IF WE MADE A CLASSIFIER TO SEE WHO DIED LOMG SOUNDS COOL\n",
    "### I'll definitely try this in the future, but I'll look at the data some more and then the vaccine data first."
   ]
  },
  {
   "cell_type": "code",
   "execution_count": 66,
   "id": "437ff35b",
   "metadata": {
    "scrolled": true
   },
   "outputs": [
    {
     "data": {
      "text/html": [
       "<div>\n",
       "<style scoped>\n",
       "    .dataframe tbody tr th:only-of-type {\n",
       "        vertical-align: middle;\n",
       "    }\n",
       "\n",
       "    .dataframe tbody tr th {\n",
       "        vertical-align: top;\n",
       "    }\n",
       "\n",
       "    .dataframe thead th {\n",
       "        text-align: right;\n",
       "    }\n",
       "</style>\n",
       "<table border=\"1\" class=\"dataframe\">\n",
       "  <thead>\n",
       "    <tr style=\"text-align: right;\">\n",
       "      <th></th>\n",
       "      <th>Age group</th>\n",
       "      <th>Count</th>\n",
       "    </tr>\n",
       "  </thead>\n",
       "  <tbody>\n",
       "    <tr>\n",
       "      <th>0</th>\n",
       "      <td>1-4 years</td>\n",
       "      <td>8283</td>\n",
       "    </tr>\n",
       "    <tr>\n",
       "      <th>1</th>\n",
       "      <td>10-19 years</td>\n",
       "      <td>30131</td>\n",
       "    </tr>\n",
       "    <tr>\n",
       "      <th>2</th>\n",
       "      <td>20-29 years</td>\n",
       "      <td>40648</td>\n",
       "    </tr>\n",
       "    <tr>\n",
       "      <th>3</th>\n",
       "      <td>30-39 years</td>\n",
       "      <td>42662</td>\n",
       "    </tr>\n",
       "    <tr>\n",
       "      <th>4</th>\n",
       "      <td>40-49 years</td>\n",
       "      <td>35383</td>\n",
       "    </tr>\n",
       "    <tr>\n",
       "      <th>5</th>\n",
       "      <td>5-9 years</td>\n",
       "      <td>11592</td>\n",
       "    </tr>\n",
       "    <tr>\n",
       "      <th>6</th>\n",
       "      <td>50-59 years</td>\n",
       "      <td>26294</td>\n",
       "    </tr>\n",
       "    <tr>\n",
       "      <th>7</th>\n",
       "      <td>60-69 years</td>\n",
       "      <td>15138</td>\n",
       "    </tr>\n",
       "    <tr>\n",
       "      <th>8</th>\n",
       "      <td>70-79 years</td>\n",
       "      <td>6466</td>\n",
       "    </tr>\n",
       "    <tr>\n",
       "      <th>9</th>\n",
       "      <td>80+ years</td>\n",
       "      <td>6185</td>\n",
       "    </tr>\n",
       "    <tr>\n",
       "      <th>10</th>\n",
       "      <td>Under 1 year</td>\n",
       "      <td>1320</td>\n",
       "    </tr>\n",
       "    <tr>\n",
       "      <th>11</th>\n",
       "      <td>Unknown</td>\n",
       "      <td>93</td>\n",
       "    </tr>\n",
       "  </tbody>\n",
       "</table>\n",
       "</div>"
      ],
      "text/plain": [
       "       Age group  Count\n",
       "0      1-4 years   8283\n",
       "1    10-19 years  30131\n",
       "2    20-29 years  40648\n",
       "3    30-39 years  42662\n",
       "4    40-49 years  35383\n",
       "5      5-9 years  11592\n",
       "6    50-59 years  26294\n",
       "7    60-69 years  15138\n",
       "8    70-79 years   6466\n",
       "9      80+ years   6185\n",
       "10  Under 1 year   1320\n",
       "11       Unknown     93"
      ]
     },
     "execution_count": 66,
     "metadata": {},
     "output_type": "execute_result"
    }
   ],
   "source": [
    "# group by age, select one column cuz why not\n",
    "gender_distr = cov.groupby(['Age group']).count()['Gender']\n",
    "gender_distr = pd.DataFrame(gender_distr.reset_index())\n",
    "gender_distr.columns = ['Age group', 'Count']\n",
    "gender_distr"
   ]
  },
  {
   "cell_type": "code",
   "execution_count": 69,
   "id": "087c3b35",
   "metadata": {},
   "outputs": [],
   "source": [
    "# stackoverflow code ayyy\n",
    "age_list = ['Under 1 year', '1-4 years', '5-9 years', '10-19 years', '20-29 years', '30-39 years', '40-49 years', \n",
    "            '50-59 years', '60-69 years', '70-79 years', '80+ years', 'Unknown']\n",
    "gender_distr['Age group'] = pd.Categorical(gender_distr['Age group'], age_list)\n",
    "gender_distr = gender_distr.sort_values('Age group')"
   ]
  },
  {
   "cell_type": "code",
   "execution_count": 125,
   "id": "ebe5071c",
   "metadata": {},
   "outputs": [
    {
     "data": {
      "image/png": "[encoded data removed]",
      "text/plain": [
       "<Figure size 432x432 with 1 Axes>"
      ]
     },
     "metadata": {
      "needs_background": "light"
     },
     "output_type": "display_data"
    }
   ],
   "source": [
    "ax = gender_distr.plot.bar('Age group', y='Count', width=1.0)\n",
    "f = plt.gcf()\n",
    "f.set_size_inches(6, 6)\n",
    "\n",
    "# stackoverflow code ayyy\n",
    "for i, v in enumerate(gender_distr['Count']):\n",
    "    ax.text(i-0.5, v+300, str(v), color='blue', fontweight='regular', rotation=45)\n",
    "\n",
    "# styling\n",
    "plt.title('Alberta covid cases age breakdown', fontdict=csfont, pad=20.0)\n",
    "plt.xlabel('Age group', fontdict=csfont)\n",
    "plt.ylabel('Number of Cases', fontdict=csfont)\n",
    "plt.show()\n",
    "# ayy we plotted the distribution!! how cool.\n",
    "# doesn't look REALLY good, but we got a lot of features, which is good."
   ]
  },
  {
   "cell_type": "code",
   "execution_count": null,
   "id": "66af5776",
   "metadata": {},
   "outputs": [],
   "source": []
  }
 ],
 "metadata": {
  "kernelspec": {
   "display_name": "Python 3",
   "language": "python",
   "name": "python3"
  },
  "language_info": {
   "codemirror_mode": {
    "name": "ipython",
    "version": 3
   },
   "file_extension": ".py",
   "mimetype": "text/x-python",
   "name": "python",
   "nbconvert_exporter": "python",
   "pygments_lexer": "ipython3",
   "version": "3.9.1"
  }
 },
 "nbformat": 4,
 "nbformat_minor": 5
}
